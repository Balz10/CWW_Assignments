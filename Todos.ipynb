{
  "nbformat": 4,
  "nbformat_minor": 0,
  "metadata": {
    "colab": {
      "provenance": [],
      "authorship_tag": "ABX9TyPJ5UVUusRp1fHx+428mOO3",
      "include_colab_link": true
    },
    "kernelspec": {
      "name": "python3",
      "display_name": "Python 3"
    },
    "language_info": {
      "name": "python"
    }
  },
  "cells": [
    {
      "cell_type": "markdown",
      "metadata": {
        "id": "view-in-github",
        "colab_type": "text"
      },
      "source": [
        "<a href=\"https://colab.research.google.com/github/Balz10/CWW_Assignments/blob/main/Todos.ipynb\" target=\"_parent\"><img src=\"https://colab.research.google.com/assets/colab-badge.svg\" alt=\"Open In Colab\"/></a>"
      ]
    },
    {
      "cell_type": "code",
      "source": [
        "#Creating a todo list for my weekly activities\n",
        "todos = [(\"Monday\", [\"Pray\", \"Wash Up\", \"Eat\", \"Work\", \"Sleep\"]),\n",
        "(\"Tuesday\", [\"Church\", \"Football\", \"Classes\"]),\n",
        "  (\"Wednesday\", [\"Movies\", \"Manga\", \"Anime\"]),\n",
        "     (\"Thursday\", [\"Music Practice\", \"Sight Seeing\"]),\n",
        "         (\"Friday\", [\"Gym\", \"Hang Out\", \"Gaming\", \"Arcade\"]),\n",
        "                  (\"Saturday\", [\"Laundry\", \"Sanitation\", \"Basketball\", \"Friends\"]),\n",
        "                           (\"Sunday\", [\"Service\", \"Rest\"]),]"
      ],
      "metadata": {
        "id": "3J4V_D05BHXb"
      },
      "execution_count": 8,
      "outputs": []
    },
    {
      "cell_type": "code",
      "source": [
        "\n",
        "#Accessing the ToDos for a Particular Day, Using Iteration and/or Indexing\n",
        "for day, tasks in todos:\n",
        "  if day == \"Wednesday\":\n",
        "    print(f\"Todos for {day}: {tasks}\")"
      ],
      "metadata": {
        "id": "JeWWu4dFBnzZ",
        "colab": {
          "base_uri": "https://localhost:8080/"
        },
        "outputId": "53122c9e-6e7f-4a8d-c0ea-f5abe0b1a075"
      },
      "execution_count": 13,
      "outputs": [
        {
          "output_type": "stream",
          "name": "stdout",
          "text": [
            "Todos for Wednesday: ['Movies', 'Manga', 'Anime']\n"
          ]
        }
      ]
    },
    {
      "cell_type": "code",
      "execution_count": null,
      "metadata": {
        "id": "hT_zgconBGUA",
        "colab": {
          "base_uri": "https://localhost:8080/"
        },
        "outputId": "c20795b3-e162-4fdb-bbdb-c74250f41791"
      },
      "outputs": [
        {
          "output_type": "stream",
          "name": "stdout",
          "text": [
            "Todos for Monday: ['Pray', 'Wash Up', 'Eat', 'Work', 'Sleep']\n",
            "Todos for Tuesdsay: ['Church', 'Football', 'Classes']\n",
            "Todos for Wednesday: ['Movies', 'Manga', 'Anime']\n",
            "Todos for Thursday: ['Music Practice', 'Sight Seeing']\n",
            "Todos for Friday: ['Gym', 'Hang Out', 'Gaming', 'Arcade']\n",
            "Todos for Saturday: ['Laundry', 'Sanitation', 'Basketball', 'Friends']\n",
            "Todos for Sunday: ['Service', 'Rest']\n"
          ]
        }
      ],
      "source": [
        "#Accessing the ToDos for Each Day\n",
        "for day, tasks in todos:\n",
        "  print(f\"Todos for {day}: {tasks}\")"
      ]
    },
    {
      "cell_type": "code",
      "source": [
        "bio = {\n",
        "    \"Name\" : \"Austin\",\n",
        "    \"Age\" : 24,\n",
        "    \"State\" : \"Benue\",\n",
        "    \"Education\" : \"Bsc\",\n",
        "    \"Skills\" : [\"Python\", \"Football\", \"Data Analyst\"]\n",
        "}"
      ],
      "metadata": {
        "id": "hFhW2ESuIvuq"
      },
      "execution_count": 16,
      "outputs": []
    },
    {
      "cell_type": "code",
      "source": [
        "for key, value in bio.items():\n",
        "  print(f\"{key}: {value}\")"
      ],
      "metadata": {
        "colab": {
          "base_uri": "https://localhost:8080/"
        },
        "id": "CZtjHfhgL_yD",
        "outputId": "d3e78f6f-84b4-4c0c-c4d7-5af64c57bf14"
      },
      "execution_count": 3,
      "outputs": [
        {
          "output_type": "stream",
          "name": "stdout",
          "text": [
            "Name: Austin\n",
            "Age: 24\n",
            "State: Benue\n",
            "Education: Bsc\n",
            "Skills: ['Python', 'Football', 'Data Analyst']\n"
          ]
        }
      ]
    },
    {
      "cell_type": "code",
      "source": [
        "for key, value in bio.items():\n",
        "  if key == \"Skills\":\n",
        "    print(\"My Skills are:\")\n",
        "    for skill in value:\n",
        "          print(skill)"
      ],
      "metadata": {
        "colab": {
          "base_uri": "https://localhost:8080/"
        },
        "id": "tf1goPk-Mwlb",
        "outputId": "502f7b10-bd85-4c42-db3f-face4df42142"
      },
      "execution_count": 19,
      "outputs": [
        {
          "output_type": "stream",
          "name": "stdout",
          "text": [
            "My Skills are:\n",
            "Python\n",
            "Football\n",
            "Data Analyst\n"
          ]
        }
      ]
    },
    {
      "cell_type": "code",
      "source": [
        "for key, value in bio.items():\n",
        "  if key == \"Skills\":\n",
        "    print(\"My Skills are:\")\n",
        "    for skill in value:\n",
        "      print(skill)\n",
        "  else:\n",
        "    print(f\"My {key} is {value}\")"
      ],
      "metadata": {
        "colab": {
          "base_uri": "https://localhost:8080/"
        },
        "id": "bxioI-ymNTGC",
        "outputId": "1367579a-286a-4d0a-8ee9-678202b197da"
      },
      "execution_count": 20,
      "outputs": [
        {
          "output_type": "stream",
          "name": "stdout",
          "text": [
            "My Name is Austin\n",
            "My Age is 24\n",
            "My State is Benue\n",
            "My Education is Bsc\n",
            "My Skills are:\n",
            "Python\n",
            "Football\n",
            "Data Analyst\n"
          ]
        }
      ]
    },
    {
      "cell_type": "code",
      "source": [
        "doubled_numbers = [num * 2 for num in range(1, 6)]\n",
        "print(doubled_numbers)\n"
      ],
      "metadata": {
        "colab": {
          "base_uri": "https://localhost:8080/"
        },
        "id": "bmgu8yGvNrwt",
        "outputId": "57f974b2-7c94-46e6-9761-f6d72e17a00a"
      },
      "execution_count": 6,
      "outputs": [
        {
          "output_type": "stream",
          "name": "stdout",
          "text": [
            "[2, 4, 6, 8, 10]\n"
          ]
        }
      ]
    }
  ]
}