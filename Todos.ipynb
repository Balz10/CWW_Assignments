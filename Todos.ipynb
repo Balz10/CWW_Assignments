{
  "nbformat": 4,
  "nbformat_minor": 0,
  "metadata": {
    "colab": {
      "provenance": [],
      "authorship_tag": "ABX9TyN6oAw9FAwugaciy8w+8XdC",
      "include_colab_link": true
    },
    "kernelspec": {
      "name": "python3",
      "display_name": "Python 3"
    },
    "language_info": {
      "name": "python"
    }
  },
  "cells": [
    {
      "cell_type": "markdown",
      "metadata": {
        "id": "view-in-github",
        "colab_type": "text"
      },
      "source": [
        "<a href=\"https://colab.research.google.com/github/Balz10/CWW_Assignments/blob/main/Todos.ipynb\" target=\"_parent\"><img src=\"https://colab.research.google.com/assets/colab-badge.svg\" alt=\"Open In Colab\"/></a>"
      ]
    },
    {
      "cell_type": "code",
      "source": [
        "#Creating a todo list for my weekly activities\n",
        "todos = [(\"Monday\", [\"Pray\", \"Wash Up\", \"Eat\", \"Work\", \"Sleep\"]),\n",
        "(\"Tuesdsay\", [\"Church\", \"Football\", \"Classes\"]),\n",
        "  (\"Wednesday\", [\"Movies\", \"Manga\", \"Anime\"]),\n",
        "     (\"Thursday\", [\"Music Practice\", \"Sight Seeing\"]),\n",
        "         (\"Friday\", [\"Gym\", \"Hang Out\", \"Gaming\", \"Arcade\"]),\n",
        "                  (\"Saturday\", [\"Laundry\", \"Sanitation\", \"Basketball\", \"Friends\"]),\n",
        "                           (\"Sunday\", [\"Service\", \"Rest\"]),]"
      ],
      "metadata": {
        "id": "3J4V_D05BHXb"
      },
      "execution_count": null,
      "outputs": []
    },
    {
      "cell_type": "code",
      "source": [
        "\n",
        "#Accessing the ToDos for a Particular Day, Using Iteration and/or Indexing\n",
        "for day, tasks in todos:\n",
        "  if day == \"Monday\":\n",
        "    print(f\"Todos for {day}: {tasks}\")"
      ],
      "metadata": {
        "id": "JeWWu4dFBnzZ",
        "colab": {
          "base_uri": "https://localhost:8080/"
        },
        "outputId": "aad82a86-9f9e-43b4-8192-f775d5fb8afd"
      },
      "execution_count": 4,
      "outputs": [
        {
          "output_type": "stream",
          "name": "stdout",
          "text": [
            "Todos for Monday: ['Pray', 'Wash Up', 'Eat', 'Work', 'Sleep']\n"
          ]
        }
      ]
    },
    {
      "cell_type": "code",
      "execution_count": 7,
      "metadata": {
        "id": "hT_zgconBGUA",
        "colab": {
          "base_uri": "https://localhost:8080/"
        },
        "outputId": "c20795b3-e162-4fdb-bbdb-c74250f41791"
      },
      "outputs": [
        {
          "output_type": "stream",
          "name": "stdout",
          "text": [
            "Todos for Monday: ['Pray', 'Wash Up', 'Eat', 'Work', 'Sleep']\n",
            "Todos for Tuesdsay: ['Church', 'Football', 'Classes']\n",
            "Todos for Wednesday: ['Movies', 'Manga', 'Anime']\n",
            "Todos for Thursday: ['Music Practice', 'Sight Seeing']\n",
            "Todos for Friday: ['Gym', 'Hang Out', 'Gaming', 'Arcade']\n",
            "Todos for Saturday: ['Laundry', 'Sanitation', 'Basketball', 'Friends']\n",
            "Todos for Sunday: ['Service', 'Rest']\n"
          ]
        }
      ],
      "source": [
        "#Accessing the ToDos for Each Day\n",
        "for day, tasks in todos:\n",
        "  print(f\"Todos for {day}: {tasks}\")"
      ]
    }
  ]
}