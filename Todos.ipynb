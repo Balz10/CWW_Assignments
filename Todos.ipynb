{
  "nbformat": 4,
  "nbformat_minor": 0,
  "metadata": {
    "colab": {
      "provenance": [],
      "authorship_tag": "ABX9TyPJJm7WMXfxbHK6s9wJ/FEh",
      "include_colab_link": true
    },
    "kernelspec": {
      "name": "python3",
      "display_name": "Python 3"
    },
    "language_info": {
      "name": "python"
    }
  },
  "cells": [
    {
      "cell_type": "markdown",
      "metadata": {
        "id": "view-in-github",
        "colab_type": "text"
      },
      "source": [
        "<a href=\"https://colab.research.google.com/github/Balz10/CWW_Assignments/blob/main/Todos.ipynb\" target=\"_parent\"><img src=\"https://colab.research.google.com/assets/colab-badge.svg\" alt=\"Open In Colab\"/></a>"
      ]
    },
    {
      "cell_type": "code",
      "source": [
        "#Creating a todo list for my weekly activities\n",
        "todos = [(\"Monday\", [\"Pray\", \"Wash Up\", \"Eat\", \"Work\", \"Sleep\"]),\n",
        "(\"Tuesdsay\", [\"Church\", \"Football\", \"Classes\"]),\n",
        "  (\"Wednesday\", [\"Movies\", \"Manga\", \"Anime\"]),\n",
        "     (\"Thursday\", [\"Music Practice\", \"Sight Seeing\"]),\n",
        "         (\"Friday\", [\"Gym\", \"Hang Out\", \"Gaming\", \"Arcade\"]),\n",
        "                  (\"Saturday\", [\"Laundry\", \"Sanitation\", \"Basketball\", \"Friends\"]),\n",
        "                           (\"Sunday\", [\"Service\", \"Rest\"]),]"
      ],
      "metadata": {
        "id": "3J4V_D05BHXb"
      },
      "execution_count": null,
      "outputs": []
    },
    {
      "cell_type": "code",
      "source": [
        "\n",
        "#Accessing the ToDos for a Particular Day, Using Iteration and/or Indexing\n",
        "for day, tasks in todos:\n",
        "  if day == \"Monday\":\n",
        "    print(f\"Todos for {day}: {tasks}\")"
      ],
      "metadata": {
        "id": "JeWWu4dFBnzZ",
        "colab": {
          "base_uri": "https://localhost:8080/"
        },
        "outputId": "aad82a86-9f9e-43b4-8192-f775d5fb8afd"
      },
      "execution_count": null,
      "outputs": [
        {
          "output_type": "stream",
          "name": "stdout",
          "text": [
            "Todos for Monday: ['Pray', 'Wash Up', 'Eat', 'Work', 'Sleep']\n"
          ]
        }
      ]
    },
    {
      "cell_type": "code",
      "execution_count": null,
      "metadata": {
        "id": "hT_zgconBGUA",
        "colab": {
          "base_uri": "https://localhost:8080/"
        },
        "outputId": "c20795b3-e162-4fdb-bbdb-c74250f41791"
      },
      "outputs": [
        {
          "output_type": "stream",
          "name": "stdout",
          "text": [
            "Todos for Monday: ['Pray', 'Wash Up', 'Eat', 'Work', 'Sleep']\n",
            "Todos for Tuesdsay: ['Church', 'Football', 'Classes']\n",
            "Todos for Wednesday: ['Movies', 'Manga', 'Anime']\n",
            "Todos for Thursday: ['Music Practice', 'Sight Seeing']\n",
            "Todos for Friday: ['Gym', 'Hang Out', 'Gaming', 'Arcade']\n",
            "Todos for Saturday: ['Laundry', 'Sanitation', 'Basketball', 'Friends']\n",
            "Todos for Sunday: ['Service', 'Rest']\n"
          ]
        }
      ],
      "source": [
        "#Accessing the ToDos for Each Day\n",
        "for day, tasks in todos:\n",
        "  print(f\"Todos for {day}: {tasks}\")"
      ]
    },
    {
      "cell_type": "code",
      "source": [
        "bio = {\n",
        "    \"Name\" : \"Austin\",\n",
        "    \"Age\" : 24,\n",
        "    \"State\" : \"Benue\",\n",
        "    \"Education\" : \"Bsc\",\n",
        "    \"Skills\" : [\"Python\", \"Football\", \"Data Analyst\"]\n",
        "}"
      ],
      "metadata": {
        "id": "hFhW2ESuIvuq"
      },
      "execution_count": 2,
      "outputs": []
    },
    {
      "cell_type": "code",
      "source": [
        "for key, value in bio.items():\n",
        "  print(f\"{key}: {value}\")"
      ],
      "metadata": {
        "colab": {
          "base_uri": "https://localhost:8080/"
        },
        "id": "CZtjHfhgL_yD",
        "outputId": "d3e78f6f-84b4-4c0c-c4d7-5af64c57bf14"
      },
      "execution_count": 3,
      "outputs": [
        {
          "output_type": "stream",
          "name": "stdout",
          "text": [
            "Name: Austin\n",
            "Age: 24\n",
            "State: Benue\n",
            "Education: Bsc\n",
            "Skills: ['Python', 'Football', 'Data Analyst']\n"
          ]
        }
      ]
    },
    {
      "cell_type": "code",
      "source": [
        "for key, value in bio.items():\n",
        "  if key == \"Skills\":\n",
        "    print(\"My Skills are:\")\n",
        "    for skill in value:\n",
        "      print(skill)"
      ],
      "metadata": {
        "colab": {
          "base_uri": "https://localhost:8080/"
        },
        "id": "tf1goPk-Mwlb",
        "outputId": "138c07ee-65be-430a-cf5b-1a02279ffd10"
      },
      "execution_count": 4,
      "outputs": [
        {
          "output_type": "stream",
          "name": "stdout",
          "text": [
            "My Skills are:\n",
            "Python\n",
            "Football\n",
            "Data Analyst\n"
          ]
        }
      ]
    },
    {
      "cell_type": "code",
      "source": [
        "for key, value in bio.items():\n",
        "  if key == \"Skills\":\n",
        "    print(\"My Skills are:\")\n",
        "    for skill in value:\n",
        "      print(skill)\n",
        "  else:\n",
        "    print(f\"My {key.capitalize()} is {value}\")"
      ],
      "metadata": {
        "colab": {
          "base_uri": "https://localhost:8080/"
        },
        "id": "bxioI-ymNTGC",
        "outputId": "8df1d46e-6924-4d1d-dabf-63c4e6b158d5"
      },
      "execution_count": 5,
      "outputs": [
        {
          "output_type": "stream",
          "name": "stdout",
          "text": [
            "My Name is Austin\n",
            "My Age is 24\n",
            "My State is Benue\n",
            "My Education is Bsc\n",
            "My Skills are:\n",
            "Python\n",
            "Football\n",
            "Data Analyst\n"
          ]
        }
      ]
    },
    {
      "cell_type": "code",
      "source": [
        "doubled_numbers = [num * 2 for num in range(1, 6)]\n",
        "print(doubled_numbers)\n"
      ],
      "metadata": {
        "colab": {
          "base_uri": "https://localhost:8080/"
        },
        "id": "bmgu8yGvNrwt",
        "outputId": "57f974b2-7c94-46e6-9761-f6d72e17a00a"
      },
      "execution_count": 6,
      "outputs": [
        {
          "output_type": "stream",
          "name": "stdout",
          "text": [
            "[2, 4, 6, 8, 10]\n"
          ]
        }
      ]
    }
  ]
}